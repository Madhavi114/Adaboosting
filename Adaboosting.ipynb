{
 "cells": [
  {
   "cell_type": "code",
   "execution_count": 1,
   "id": "f6c042a6",
   "metadata": {},
   "outputs": [],
   "source": [
    "import os\n",
    "import pandas as pd\n",
    "from sklearn import tree\n",
    "from sklearn import ensemble"
   ]
  },
  {
   "cell_type": "code",
   "execution_count": 2,
   "id": "29dd454b",
   "metadata": {},
   "outputs": [],
   "source": [
    "import pydotplus\n",
    "import io\n"
   ]
  },
  {
   "cell_type": "code",
   "execution_count": 3,
   "id": "2c4c470f",
   "metadata": {},
   "outputs": [
    {
     "data": {
      "text/plain": [
       "'C:\\\\Users\\\\madha'"
      ]
     },
     "execution_count": 3,
     "metadata": {},
     "output_type": "execute_result"
    }
   ],
   "source": [
    "os.getcwd()"
   ]
  },
  {
   "cell_type": "code",
   "execution_count": 4,
   "id": "841a513d",
   "metadata": {},
   "outputs": [],
   "source": [
    "os.chdir(\"C:\\\\Users\\\\madha\")"
   ]
  },
  {
   "cell_type": "code",
   "execution_count": 26,
   "id": "d59d43d8",
   "metadata": {},
   "outputs": [],
   "source": [
    "os.environ[\"PATH\"] += os.pathsep + 'C:/Program Files (x86)/Graphviz/bin/'\n"
   ]
  },
  {
   "cell_type": "code",
   "execution_count": 27,
   "id": "0f3ab42c",
   "metadata": {},
   "outputs": [],
   "source": [
    "titanic_train = pd.read_csv(\"train.csv\")"
   ]
  },
  {
   "cell_type": "code",
   "execution_count": 28,
   "id": "da595dee",
   "metadata": {},
   "outputs": [
    {
     "name": "stdout",
     "output_type": "stream",
     "text": [
      "<class 'pandas.core.frame.DataFrame'>\n",
      "RangeIndex: 891 entries, 0 to 890\n",
      "Data columns (total 12 columns):\n",
      " #   Column       Non-Null Count  Dtype  \n",
      "---  ------       --------------  -----  \n",
      " 0   PassengerId  891 non-null    int64  \n",
      " 1   Survived     891 non-null    int64  \n",
      " 2   Pclass       891 non-null    int64  \n",
      " 3   Name         891 non-null    object \n",
      " 4   Sex          891 non-null    object \n",
      " 5   Age          714 non-null    float64\n",
      " 6   SibSp        891 non-null    int64  \n",
      " 7   Parch        891 non-null    int64  \n",
      " 8   Ticket       891 non-null    object \n",
      " 9   Fare         891 non-null    float64\n",
      " 10  Cabin        204 non-null    object \n",
      " 11  Embarked     889 non-null    object \n",
      "dtypes: float64(2), int64(5), object(5)\n",
      "memory usage: 83.7+ KB\n"
     ]
    }
   ],
   "source": [
    "titanic_train.shape\n",
    "titanic_train.info()\n"
   ]
  },
  {
   "cell_type": "code",
   "execution_count": 29,
   "id": "d1467d67",
   "metadata": {},
   "outputs": [
    {
     "name": "stdout",
     "output_type": "stream",
     "text": [
      "<class 'pandas.core.frame.DataFrame'>\n",
      "RangeIndex: 891 entries, 0 to 890\n",
      "Data columns (total 17 columns):\n",
      " #   Column       Non-Null Count  Dtype  \n",
      "---  ------       --------------  -----  \n",
      " 0   PassengerId  891 non-null    int64  \n",
      " 1   Survived     891 non-null    int64  \n",
      " 2   Name         891 non-null    object \n",
      " 3   Age          714 non-null    float64\n",
      " 4   SibSp        891 non-null    int64  \n",
      " 5   Parch        891 non-null    int64  \n",
      " 6   Ticket       891 non-null    object \n",
      " 7   Fare         891 non-null    float64\n",
      " 8   Cabin        204 non-null    object \n",
      " 9   Pclass_1     891 non-null    uint8  \n",
      " 10  Pclass_2     891 non-null    uint8  \n",
      " 11  Pclass_3     891 non-null    uint8  \n",
      " 12  Sex_female   891 non-null    uint8  \n",
      " 13  Sex_male     891 non-null    uint8  \n",
      " 14  Embarked_C   891 non-null    uint8  \n",
      " 15  Embarked_Q   891 non-null    uint8  \n",
      " 16  Embarked_S   891 non-null    uint8  \n",
      "dtypes: float64(2), int64(4), object(3), uint8(8)\n",
      "memory usage: 69.7+ KB\n"
     ]
    }
   ],
   "source": [
    "titanic_train1 = pd.get_dummies(titanic_train, columns=['Pclass', 'Sex', 'Embarked'])\n",
    "titanic_train1.shape\n",
    "titanic_train1.info()\n"
   ]
  },
  {
   "cell_type": "code",
   "execution_count": 30,
   "id": "1eafac9f",
   "metadata": {},
   "outputs": [],
   "source": [
    "X_train = titanic_train1.drop(['PassengerId','Age','Cabin','Ticket', 'Name','Survived'],axis=1)\n",
    "y_train = titanic_train['Survived']\n"
   ]
  },
  {
   "cell_type": "code",
   "execution_count": 31,
   "id": "9b80eefe",
   "metadata": {},
   "outputs": [],
   "source": [
    "dt_estimator = tree.DecisionTreeClassifier()"
   ]
  },
  {
   "cell_type": "code",
   "execution_count": 32,
   "id": "90c6e943",
   "metadata": {},
   "outputs": [],
   "source": [
    "ada_tree_estimator1 = ensemble.AdaBoostClassifier(base_estimator = dt_estimator, n_estimators = 5, learning_rate =0.2, random_state=2017)"
   ]
  },
  {
   "cell_type": "code",
   "execution_count": 33,
   "id": "c97dfce7",
   "metadata": {},
   "outputs": [
    {
     "data": {
      "text/plain": [
       "AdaBoostClassifier(base_estimator=DecisionTreeClassifier(), learning_rate=0.2,\n",
       "                   n_estimators=5, random_state=2017)"
      ]
     },
     "execution_count": 33,
     "metadata": {},
     "output_type": "execute_result"
    }
   ],
   "source": [
    "ada_tree_estimator1.fit(X_train, y_train)"
   ]
  },
  {
   "cell_type": "code",
   "execution_count": 34,
   "id": "478d78ba",
   "metadata": {},
   "outputs": [],
   "source": [
    "n_tree = 0\n",
    "for est in ada_tree_estimator1.estimators_: \n",
    "    dot_data = io.StringIO()\n",
    "    tree.export_graphviz(est, out_file = dot_data, feature_names = X_train.columns)\n",
    "    graph = pydotplus.graph_from_dot_data(dot_data.getvalue())\n",
    "    graph.write_pdf(\"adatree\" + str(n_tree) + \".pdf\")\n",
    "    n_tree = n_tree + 1"
   ]
  },
  {
   "cell_type": "code",
   "execution_count": null,
   "id": "1a6e03e3",
   "metadata": {},
   "outputs": [],
   "source": []
  },
  {
   "cell_type": "code",
   "execution_count": 35,
   "id": "d0a36e2e",
   "metadata": {},
   "outputs": [
    {
     "data": {
      "text/plain": [
       "'C:\\\\Users\\\\madha'"
      ]
     },
     "execution_count": 35,
     "metadata": {},
     "output_type": "execute_result"
    }
   ],
   "source": [
    "os.getcwd()"
   ]
  },
  {
   "cell_type": "code",
   "execution_count": null,
   "id": "803a1e57",
   "metadata": {},
   "outputs": [],
   "source": []
  }
 ],
 "metadata": {
  "kernelspec": {
   "display_name": "Python 3 (ipykernel)",
   "language": "python",
   "name": "python3"
  },
  "language_info": {
   "codemirror_mode": {
    "name": "ipython",
    "version": 3
   },
   "file_extension": ".py",
   "mimetype": "text/x-python",
   "name": "python",
   "nbconvert_exporter": "python",
   "pygments_lexer": "ipython3",
   "version": "3.9.13"
  }
 },
 "nbformat": 4,
 "nbformat_minor": 5
}
